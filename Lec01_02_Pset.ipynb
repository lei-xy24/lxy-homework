{
 "cells": [
  {
   "cell_type": "markdown",
   "metadata": {},
   "source": [
    "## Problem Sets"
   ]
  },
  {
   "cell_type": "markdown",
   "metadata": {},
   "source": [
    "### Problem Set 1 - **Euler's theorem**"
   ]
  },
  {
   "cell_type": "markdown",
   "metadata": {},
   "source": [
    "\n",
    "- Problem 1. Let $N, c$, and $e$ be positive integers satisfying the conditions $\\operatorname{gcd}(N, c)=1$ and $\\operatorname{gcd}(e, \\phi(N))=1$.\n",
    "\n",
    "  - (a) Explain how to solve the congruence\n",
    "    $$\n",
    "    x^{e} \\equiv c \\pmod{N},\n",
    "    $$\n",
    "    assuming that you know the value of $\\phi(N)$.\n",
    "    \n",
    "    (Hint. Use the formula in Euler's theorem.)\n",
    "\n",
    "  - (b) Solve the following congruences \n",
    "    (You may write a program to compute $\\phi(N)$ and compute exponentiation moudulo in Z/mZ).\n",
    "\n",
    "    - (i) $x^{577} \\equiv 60 \\pmod{1463}$.\n",
    "\n",
    "    - (ii) $x^{959} \\equiv 1583 \\pmod{1625}$.\n",
    "\n",
    "    - (iii) $x^{133957} \\equiv 224689 \\pmod{2134440}$."
   ]
  },
  {
   "cell_type": "markdown",
   "metadata": {},
   "source": [
    "### Problem Set 2 - **Congurence Equations & Quadratic Residues**"
   ]
  },
  {
   "cell_type": "markdown",
   "metadata": {},
   "source": [
    "\n",
    "- Problem 1. Write a program that takes as input four integers $(b, m, c, n)$ with $\\operatorname{gcd}(m, n)=$ 1 and computes an integer $x$ with $0 \\leq x<m n$ satisfying\n",
    "  $$\n",
    "  x \\equiv b \\pmod{ m} \\quad \\text { and } \\quad x \\equiv c \\pmod{ n}.\n",
    "  $$\n"
   ]
  },
  {
   "cell_type": "markdown",
   "metadata": {},
   "source": [
    "\n",
    "- Problem 2. Determine those primes $p$ of which 10 is a quadratic residue.\n"
   ]
  },
  {
   "cell_type": "markdown",
   "metadata": {},
   "source": [
    "  \n",
    "- Problem 3. Determine whether or not $1097$ is a square modulo the prime number $1103$.\n"
   ]
  },
  {
   "cell_type": "markdown",
   "metadata": {},
   "source": [
    "\n",
    "- Problem 4. Let $p$ be a prime satisfying $p \\equiv 3 \\pmod{ 4}$.\n",
    "\n",
    "  - (a) Let $a$ be a quadratic residue modulo $p$. Prove that the number\n",
    "    $$\n",
    "    b \\equiv a^{\\frac{p+1}{4}} \\quad \\pmod{ p}\n",
    "    $$\n",
    "    has the property that $b^{2} \\equiv a \\pmod{ p}$.\n",
    "    \n",
    "    This gives an easy way to take square roots modulo $p$ for primes that are congruent to $3$ modulo $4$.\n",
    "\n",
    "  - (b) Use (a) to compute the following square roots modulo $p$. Be sure to check your answers.\n",
    "\n",
    "    - (i) Solve $b^{2} \\equiv 116 \\pmod{ 587}$.\n",
    "\n",
    "    - (ii) Solve $b^{2} \\equiv 3217 \\pmod{ 8627}$.\n",
    "\n",
    "    - (iii) Solve $b^{2} \\equiv 9109 \\pmod{ 10663}$ (Be sure to check your answers.)\n"
   ]
  },
  {
   "cell_type": "markdown",
   "metadata": {},
   "source": [
    "\n",
    "- Problem 5. Look for a solution to the congruence $x^2 \\equiv 197 \\pmod{ 437}$.\n"
   ]
  },
  {
   "cell_type": "markdown",
   "metadata": {},
   "source": [
    "\n",
    "- Problem 6. If $a^{m-1} \\not \\equiv 1 \\pmod{m}$, then Fermat's Little Theorem tells us that $m$ is composite. \n",
    "  On the other hand, even if\n",
    "  $$\n",
    "  a^{m-1} \\equiv 1 \\pmod{m}\n",
    "  $$\n",
    "  for some (or all) $a$ 's satisfying $\\operatorname{gcd}(a, m)=1$, we cannot conclude that $m$ is prime. \n",
    "\n",
    "  This exercise describes a way to use Quadratic Reciprocity to check if a number is probably prime.\n",
    "  \n",
    "  (You might compare this method with the Rabin-Miller test.)\n",
    "\n",
    "  - (a) Euler's criterion says that if $p$ is prime then\n",
    "    $$\n",
    "    a^{(p-1) / 2} \\equiv\\left(\\frac{a}{p}\\right) \\pmod{p}\n",
    "    $$\n",
    "\n",
    "    Use successive squaring to compute $11^{864} \\pmod{1729}$ and use Quadratic Reciprocity to compute $\\left(\\frac{11}{1729}\\right)$.\n",
    "    \n",
    "    Do they agree? What can you conclude concerning the possible primality of $1729$?\n",
    "\n",
    "  - (b) Use successive squaring to compute the quantities\n",
    "    $$\n",
    "    2^{(1293337-1) / 2} \\pmod{1293337} \\quad \\text { and } \\quad 2^{1293336} \\pmod{1293337}\n",
    "    $$\n",
    "    What can you conclude concerning the possible primality of $1293337$?\n",
    "\n"
   ]
  }
 ],
 "metadata": {
  "kernelspec": {
   "display_name": "SageMath 9.7",
   "language": "sage",
   "name": "sagemath"
  },
  "language_info": {
   "codemirror_mode": {
    "name": "ipython",
    "version": 3
   },
   "file_extension": ".py",
   "mimetype": "text/x-python",
   "name": "python",
   "nbconvert_exporter": "python",
   "pygments_lexer": "ipython3",
   "version": "3.8.13"
  }
 },
 "nbformat": 4,
 "nbformat_minor": 2
}
