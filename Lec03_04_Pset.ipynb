{
 "cells": [
  {
   "cell_type": "markdown",
   "metadata": {},
   "source": [
    "Choose at least ten problems that you prefer and provide your full answers."
   ]
  },
  {
   "cell_type": "markdown",
   "metadata": {},
   "source": [
    "### Problem Set 3 - **Groups**"
   ]
  },
  {
   "cell_type": "markdown",
   "metadata": {},
   "source": [
    "- Problem 1. The group $\\mathcal{S}_{3}$ consists of the following six distinct elements\n",
    "  $$\n",
    "  e, \\sigma, \\sigma^{2}, \\tau, \\sigma \\tau, \\sigma^{2} \\tau\n",
    "  $$\n",
    "  where $e$ is the identity element and multiplication is performed using the rules\n",
    "  $$\n",
    "  \\sigma^{3}=e, \\quad \\tau^{2}=e, \\quad \\tau \\sigma=\\sigma^{2} \\tau\n",
    "  $$\n",
    "  Compute the following values in the group $\\mathcal{S}_{3}$:\n",
    "\n",
    "  - (a) $\\tau \\sigma^{2}$\n",
    "  \n",
    "  - (b) $\\tau(\\sigma \\tau)$\n",
    "  \n",
    "  - (c) $(\\sigma \\tau)(\\sigma \\tau)$\n",
    "  \n",
    "  - (d) $(\\sigma \\tau)\\left(\\sigma^{2} \\tau\\right)$.\n",
    "  \n",
    "  Is $\\mathcal{S}_{3}$ a commutative group?"
   ]
  },
  {
   "cell_type": "markdown",
   "metadata": {},
   "source": [
    "- Problem 2. Let $G$ be a group, let $d \\geq 1$ be an integer, and define a subset of $G$ by\n",
    "  $$\n",
    "  G[d]=\\left\\{g \\in G: g^{d}=e\\right\\} .\n",
    "  $$\n",
    "\n",
    "  - (a) Prove that if $g$ is in $G[d]$, then $g^{-1}$ is in $G[d]$.\n",
    "  \n",
    "  - (b) Suppose that $G$ is commutative. Prove that if $g_{1}$ and $g_{2}$ are in $G[d]$, then their product $g_{1} g_{2}$ is in $G[d]$.\n",
    "  \n",
    "  - (c) Deduce that if $G$ is commutative, then $G[d]$ is a group.\n",
    "  \n",
    "  - (d) Show by an example that if $G$ is not a commutative group, then $G[d]$ need not be a group. (Hint. Use Problem 1.)"
   ]
  },
  {
   "cell_type": "markdown",
   "metadata": {},
   "source": [
    "- Problem 3. \n",
    "\n",
    "  - (a) Prove that $\\mathrm{GL}_{2}(\\mathbb{F}_{p})$ is a group.\n",
    "  \n",
    "  - (b) Show that $\\mathrm{GL}_{2}(\\mathbb{F}_{p})$ is a noncommutative group for every prime $p$.\n",
    "  \n",
    "  - (c) Describe $\\mathrm{GL}_{2}(\\mathbb{F}_{2})$ completely. That is, list its elements and describe the multiplication table.\n",
    "  \n",
    "  - (d) How many elements are there in the group $\\mathrm{GL}_{2}(\\mathbb{F}_{p})$?\n",
    "  \n",
    "  - (e) How many elements are there in the group $\\mathrm{GL}_{n}(\\mathbb{F}_{p})$?\n"
   ]
  },
  {
   "cell_type": "markdown",
   "metadata": {},
   "source": [
    "- Problem 4. Let $K$ be a subgroup of a group $G$, and define relations $\\sim_{K}^{\\prime}, \\sim_{K}^{\\prime \\prime}$ on $G$ by setting $a \\sim_{K}^{\\prime} b \\Longleftrightarrow a^{-1} b \\in K, a \\sim_{K}^{\\prime \\prime} b \\Longleftrightarrow b a^{-1} \\in K$. Prove that $\\sim_{K}^{\\prime}$ and $\\sim_{K}^{\\prime \\prime}$ are both equivalence relations."
   ]
  },
  {
   "cell_type": "markdown",
   "metadata": {},
   "source": [
    "- Problem 5. Let $G$ be a group and let $H \\subseteq G$ be a subgroup. Prove that $g_{1} H=g_{2} H$ if and only if $H g_{1}^{-1}=H g_{2}^{-1}$. Deduce that the number of right-cosets of $H$ is, if finite, equal to the number of left-cosets."
   ]
  },
  {
   "cell_type": "markdown",
   "metadata": {},
   "source": [
    "- Problem 6. Assume $G$ is a finite abelian group, and let $p$ be a prime divisor of $|G|$. Prove that there exists an element in $G$ of order $p$. (Hint: let $g$ be any element of $G$, and consider the subgroup $\\langle g\\rangle$; use the fact that this subgroup is cyclic to show that there is an element $h \\in\\langle g\\rangle$ in $G$ of prime order $q$. If $q=p$ you are done; else, use the quotient $G /\\langle h\\rangle$ and induction.)"
   ]
  },
  {
   "cell_type": "markdown",
   "metadata": {},
   "source": [
    "### Problem Set 4 - **Rings and Fields**"
   ]
  },
  {
   "cell_type": "markdown",
   "metadata": {},
   "source": [
    "- Problem 1. Let $p$ be a prime number and let $e \\geq 2$. The quotient ring $\\mathbb{Z} / p^{e} \\mathbb{Z}$ and the finite field $\\mathbb{F}_{p^{e}}$ are both rings and both have the same number of elements. \n",
    "\n",
    "  - (a) Describe some ways in which they are intrinsically different.\n",
    "  \n",
    "  - (b) Let $(\\mathbb{Z} / p^{e} \\mathbb{Z})^*$ denote all residues modulo $p^e$ that are invertible under multiplication, i.e., are not divisible by $p$. How many elements   does it have?\n",
    "  \n",
    "  - (c) Let $p > 2$, and let $g$ be an integer that generate $\\mathbb{F}_p^*$. Let $e$ be any integer greater than $1$. Prove that either $g$ or $(p+1)g$ generates $(\\mathbb  {Z} / p^{e} \\mathbb{Z})^*$. Thus, the latter is also a cyclic group.\n",
    "  \n",
    "  - (d) Prove that if $e > 2$, then $(\\mathbb{Z} / 2^{e} \\mathbb{Z})^*$ is not cyclic, but that the number $5$ generates a subgroup consisting half of its element, namely those which are $\\equiv 1 \\mod 4$."
   ]
  },
  {
   "cell_type": "markdown",
   "metadata": {},
   "source": [
    "- Problem 2. Let $I$ be an ideal of a field $F$. Prove that $I=(0)$ or $I=(1)$."
   ]
  },
  {
   "cell_type": "markdown",
   "metadata": {},
   "source": [
    "- Problem 3. Let $\\mathbb{F}$ be a field and let $\\boldsymbol{a}$ and $\\boldsymbol{b}$ be nonzero polynomials in $\\mathbb{F}[x]$.\n",
    "\n",
    "  - (a) Prove that $\\operatorname{deg}(\\boldsymbol{a} \\cdot \\boldsymbol{b})=\\operatorname{deg}(\\boldsymbol{a})+\\operatorname{deg}(\\boldsymbol{b})$.\n",
    "\n",
    "  - (b) Prove that $\\boldsymbol{a}$ has a multiplicative inverse in $\\mathbb{F}[x]$ if and only if $\\boldsymbol{a}$ is in $\\mathbb{F}$, i.e., if and only if $\\boldsymbol{a}$ is a constant polynomial.\n",
    "\n",
    "  - (c) Prove that every nonzero element of $\\mathbb{F}[x]$ can be factored into a product of irreducible polynomials. (Hint. Use (a), (b), and induction on the degree of the polynomial.)\n",
    "\n",
    "  - (d) Let $R$ be the ring $\\mathbb{Z} / 6 \\mathbb{Z}$. Give an example to show that (a) is false for some polynomials $\\boldsymbol{a}$ and $\\boldsymbol{b}$ in $R[x]$."
   ]
  },
  {
   "cell_type": "markdown",
   "metadata": {},
   "source": [
    "- Problem 4. Let $\\boldsymbol{a}$ and $\\boldsymbol{b}$ be the polynomials\n",
    "  $$\n",
    "  \\begin{aligned}\n",
    "  \\boldsymbol{a} & =x^{5}+3 x^{4}-5 x^{3}-3 x^{2}+2 x+2, \\\\\n",
    "  \\boldsymbol{b} & =x^{5}+x^{4}-2 x^{3}+4 x^{2}+x+5 .\n",
    "  \\end{aligned}\n",
    "  $$\n",
    "  Use the Euclidean algorithm to compute $\\operatorname{gcd}(\\boldsymbol{a}, \\boldsymbol{b})$ in each of the following rings.\n",
    "\n",
    "  - (a) $\\mathbb{F}_{2}[x]$\n",
    "  \n",
    "  - (b) $\\mathbb{F}_{3}[x]$\n",
    "  \n",
    "  - (c) $\\mathbb{F}_{5}[x]$\n",
    "  \n",
    "  - (d) $\\mathbb{F}_{7}[x]$."
   ]
  },
  {
   "cell_type": "markdown",
   "metadata": {},
   "source": [
    "- Problem 5. Continuing with the same polynomials $\\boldsymbol{a}$ and $\\boldsymbol{b}$ as in Problem 4, for each of the polynomial rings (a), (b), (c), and (d) in Problem 4, find polynomials $\\boldsymbol{u}$ and $\\boldsymbol{v}$ satisfying\n",
    "  $$\n",
    "  \\boldsymbol{a} \\cdot \\boldsymbol{u}+\\boldsymbol{b} \\cdot \\boldsymbol{v}=\\operatorname{gcd}(\\boldsymbol{a}, \\boldsymbol{b}) .\n",
    "  $$"
   ]
  },
  {
   "cell_type": "markdown",
   "metadata": {},
   "source": [
    "- Problem 6. The field $\\mathbb{F}_{7}[x] /\\left(x^{2}+1\\right)$ is a field with $49$ elements, which for the moment we denote by $\\mathbb{F}_{49}$.\n",
    "\n",
    "  (a) Is $2+5 x$ a primitive root in $\\mathbb{F}_{49}$?\n",
    "  \n",
    "  (b) Is $2+x$ a primitive root in $\\mathbb{F}_{49}$?\n",
    "  \n",
    "  (c) Is $1+x$ a primitive root in $\\mathbb{F}_{49}$?\n",
    "  \n",
    "  (Hint. Lagrange's theorem says that the order of $u \\in \\mathbb{F}_{49}$ must divide $48$. So if $u^{k} \\neq 1$ for all proper divisors $k$ of $48$, then $u$ is a primitive root.)"
   ]
  },
  {
   "cell_type": "markdown",
   "metadata": {},
   "source": [
    "- Problem 7. Create a variant of Eratosthenes's sieve for finding irreducible polynomials over $\\mathbb{F}_{2}$. Make sure that you are using Gray codes and write a segmented version (Refer to [Joux09]).\n",
    "\n",
    "  (a) Then, use you program to determine which of the following polynomials are irreducible over $\\mathbb{F}_{2}[x]$ : $$x^{5}+x^{4}+1, x^{5}+x^{3}+1, x^{5}+x^{4}+x^{2}+1. $$\n",
    " \n",
    "  (b) For each degree $d \\leq 6$, find the number of irreducible polynomials over $\\mathbb{F}_{2}$ of degree $d$, and make a list of them.\n",
    " \n",
    "  (c) For each degree $d \\leq 6$, find the number of monic irreducible polynomials over $\\mathbb{F}_{3}$ of degree $d$, and for $d \\leq 3$ make a list of them.\n",
    "    \n",
    "  (Hint: The set of polynomials you sieve on should contain all polynomials up to some degree limit. Similarly, the size of segments should be a power of two. Any finer  decomposition makes things awful.)\n",
    " \n",
    "  [Joux09] Joux, Antoine. Algorithmic cryptanalysis. Chapman and Hall/CRC, 2009."
   ]
  },
  {
   "cell_type": "markdown",
   "metadata": {},
   "source": [
    "- Problem 8. The field $\\mathbb{F}_{2^{5}}$ can be constructed as $\\mathbb{F}_{2}[x] /(x^{5}+x^{2}+1)$.\n",
    "\n",
    "  Perform the following computations in this field.\n",
    "\n",
    "  (a) Compute $(x^{4}+x^{2}) \\cdot (x^{3}+x+1)$.\n",
    "  \n",
    "  (b) Using the extended Euclidean algorithm, compute $(x^{3}+x^{2})^{-1}$.\n",
    "  \n",
    "  (c) Using the square-and-multiply algorithm, compute $x^{25}$.\n"
   ]
  },
  {
   "cell_type": "markdown",
   "metadata": {},
   "source": [
    "- Problem 9. We give an example of the ElGamal Cryptosystem implemented in $\\mathbb{F}_{3^3}$. The polynomial $x^{3}+2 x^{2}+1$ is irreducible over $\\mathbb{F}_{3}[x]$ and hence $\\mathbb{F}_{3}[x] /\\left(x^{3}+\\right.$ $\\left.2 x^{2}+1\\right)$ is the field $\\mathbb{F}_{3^{3}}$. We can associate the 26 letters of the alphabet with the 26 nonzero field elements, and thus encrypt ordinary text in a convenient way. We will use a lexicographic ordering of the (nonzero) polynomials to set \n",
    "up the correspondence. This correspondence is as follows:\n",
    "\n",
    "  $$\n",
    "  \\begin{array}{lllllllll}\n",
    "  A &\\leftrightarrow & 1 \\quad & B & \\leftrightarrow & 2 \\quad & C & \\leftrightarrow & x \\\\\n",
    "  D &\\leftrightarrow & x+1 \\quad & E & \\leftrightarrow & x+2 \\quad & F & \\leftrightarrow & 2 x \\\\\n",
    "  G &\\leftrightarrow & 2 x+1 \\quad & H & \\leftrightarrow & 2 x+2 \\quad & I & \\leftrightarrow & x^{2} \\\\\n",
    "  J &\\leftrightarrow & x^{2}+1 \\quad & K & \\leftrightarrow & x^{2}+2 \\quad & L & \\leftrightarrow & x^{2}+x \\\\\n",
    "  M &\\leftrightarrow & x^{2}+x+1 \\quad & N & \\leftrightarrow & x^{2}+x+2 \\quad & O & \\leftrightarrow & x^{2}+2 x \\\\\n",
    "  P &\\leftrightarrow & x^{2}+2 x+1 \\quad & Q & \\leftrightarrow & x^{2}+2 x+2 \\quad & R & \\leftrightarrow & 2 x^{2} \\\\\n",
    "  S &\\leftrightarrow & 2 x^{2}+1 \\quad & T & \\leftrightarrow & 2 x^{2}+2 \\quad & U & \\leftrightarrow & 2 x^{2}+x \\\\\n",
    "  V &\\leftrightarrow & 2 x^{2}+x+1 \\quad & W & \\leftrightarrow & 2 x^{2}+x+2 \\quad & X & \\leftrightarrow & 2 x^{2}+2 x \\\\\n",
    "  Y &\\leftrightarrow & 2 x^{2}+2 x+1 \\quad & Z & \\leftrightarrow & 2 x^{2}+2 x+2\n",
    "  \\end{array}\n",
    "  $$\n",
    "  \n",
    "  Suppose Alice uses $g=x$ and $a=11$ in an ElGamal Cryptosystem. Show how Alice will decrypt the following string of ciphertext:\n",
    "  $$\n",
    "  (K, H)(P, X)(N, K)(H, R)(T, F)(V, Y)(E, H)(F, A)(T, W)(J, D)(U, J)\n",
    "  $$\n",
    "\n",
    "Recall the version implemented in $\\mathbb{F}_p^{*}$:\n",
    "<div class=\"alert alert-block alert-success\" style='background-color:White; color: darkblue; border-left: solid darkblue 4px; border-radius: 4px; padding:0.7em;'>\n",
    "\n",
    "### The Elgamal Public Key Cryptosystem\n",
    "---\n",
    "\n",
    "$$\n",
    "\\begin{array}{|c|}\n",
    "\\hline\n",
    "\\hline\n",
    "\\begin{array}{c}\n",
    "\\textbf{Public parameter creation} \\\\ \\hline\n",
    "\\text{A trusted party chooses and publishes a (large) prime } p \\\\\n",
    "\\text{and an integer } g \\text{ having large prime order in } \\mathbb{F}_p^*.\n",
    "\\end{array} \\\\[10pt]\n",
    "\\hline\n",
    "\\hline\n",
    "\\begin{array}{c}\n",
    "\\textbf{Key creation} \\\\ \\hline\n",
    "\\begin{array}{l|r}\n",
    "\\text{Alice} & \\text{Bob} \\\\  \\hdashline\n",
    "\\text{Choose private key } 1 \\leq a \\leq p - 1. & \\phantom{\\text{Choose private key } 1 \\leq a \\leq p - 1.} \\\\\n",
    "\\text{Compute } A \\equiv g^{a} \\mod p. &  \\\\\n",
    "\\text{Publish the public key } A.\n",
    "\\end{array} \\\\\n",
    "\\end{array} \\\\[10pt]\n",
    "\\hline\n",
    "\\hline\n",
    "\\begin{array}{c}\n",
    "\\textbf{Encryption} \\\\ \\hline\n",
    "\\begin{array}{rcl}\n",
    "\\text{Alice} & \\text{Public Channel} & \\text{Bob} \\\\  \\hdashline\n",
    " &  & \\text{Choose plaintext } m. \\\\\n",
    " &  & \\text{Choose random element } k. \\\\\n",
    " &  & \\text{Use Alice's public key } A \\\\\n",
    "\\phantom{\\quad\\text{to compute } c_{1} \\equiv g^{k} \\pmod{p}} &  & \\quad\\text{to compute } c_{1} \\equiv g^{k} \\pmod{p} \\\\\n",
    " &  & \\quad\\text{and } c_{2} \\equiv m A^{k} \\pmod{p} \\\\\n",
    " & \\stackrel{(c_1, c_2)}{\\longleftarrow} & \\text{Send ciphertext } (c_1, c_2) \\text{ to Alice.} \\\\\n",
    "\\end{array} \\\\\n",
    "\\end{array} \\\\[10pt]\n",
    "\\hline\n",
    "\\hline\n",
    "\\begin{array}{c}\n",
    "\\textbf{Decryption} \\\\ \\hline\n",
    "\\begin{array}{l|r}\n",
    "\\text{Alice} & \\text{Bob}  \\\\ \\hdashline\n",
    "\\text{Compute } \\left(c_{1}^{a}\\right)^{-1} \\cdot c_{2} \\pmod{p}. & \\phantom{\\text{Compute } \\left(c_{1}^{a}\\right)^{-1} \\cdot c_{2} \\pmod{p}.} \\\\\n",
    "\\text{This quantity is equal to } m\n",
    "\\end{array}\n",
    "\\end{array} \\\\ \\hline\n",
    "\\hline\n",
    "\\end{array}\n",
    "$$\n",
    "\n",
    "</div>"
   ]
  }
 ],
 "metadata": {
  "language_info": {
   "name": "python"
  }
 },
 "nbformat": 4,
 "nbformat_minor": 2
}
